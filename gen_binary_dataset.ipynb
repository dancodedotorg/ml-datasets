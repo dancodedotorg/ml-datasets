{
 "cells": [
  {
   "cell_type": "code",
   "execution_count": 1,
   "metadata": {},
   "outputs": [],
   "source": [
    "import csv\n",
    "import json\n",
    "import os\n",
    "import random"
   ]
  },
  {
   "cell_type": "markdown",
   "metadata": {},
   "source": [
    "If you're using a JSON file, you can point to it in the code block below. Otherwise, use the second code block to fill out a dict that describes the dataset you're generating. Your data should look something like this:\n",
    "```\n",
    "data_descriptor_json = {\n",
    "  \"defaultLabelColumn\": \"recommendation\", #the default label to be predicted\n",
    "  \"fields\": [\n",
    "    {\n",
    "      \"id\": \"age\", #whatever the field contains\n",
    "      \"type\": \"categorical\", #or continuous, or binary\n",
    "      \"values\": {\n",
    "        #if categorical or binary\n",
    "        \"categories\": [],\n",
    "        #if continuous:\n",
    "        \"min\": 0,\n",
    "        \"max\": 100\n",
    "      }\n",
    "    }\n",
    "   ]\n",
    "}\n",
    "```"
   ]
  },
  {
   "cell_type": "code",
   "execution_count": null,
   "metadata": {},
   "outputs": [],
   "source": [
    "data_json_file = open('your_file.json')\n",
    "data_descriptor_json = json.read(data_json_file)"
   ]
  },
  {
   "cell_type": "code",
   "execution_count": 28,
   "metadata": {},
   "outputs": [],
   "source": [
    "data_descriptor_json = {\n",
    "  \"defaultLabelColumn\": \"Poisonous\", #the default label to be predicted\n",
    "  \"fields\": [\n",
    "    {\n",
    "      \"id\": \"Space Cactus\", #whatever the field contains\n",
    "      \"type\": \"categorical\", #or continuous, or binary\n",
    "      \"values\": {\n",
    "        #if categorical or binary\n",
    "        \"categories\": [\"Yes\", \"No\"],\n",
    "      }\n",
    "    },\n",
    "        {\n",
    "      \"id\": \"Space Pickles\", #whatever the field contains\n",
    "      \"type\": \"categorical\", #or continuous, or binary\n",
    "      \"values\": {\n",
    "        #if categorical or binary\n",
    "        \"categories\": [\"Yes\", \"No\"],\n",
    "      }\n",
    "    },\n",
    "              {\n",
    "      \"id\": \"Space Chicken\", #whatever the field contains\n",
    "      \"type\": \"categorical\", #or continuous, or binary\n",
    "      \"values\": {\n",
    "        #if categorical or binary\n",
    "        \"categories\": [\"Yes\", \"No\"],\n",
    "      }\n",
    "    }\n",
    "    ]\n",
    "      \n",
    "}"
   ]
  },
  {
   "cell_type": "markdown",
   "metadata": {},
   "source": [
    "Here we set up our constants. Add more correlation values as needed - the idea is that we'll assign a single correlation value to each combination of features/labels that we want in a dataset. The correlation value is a decimal between 0 and 1. If all features should have the same correlation to the designated output label, you can just set the \"values\" object to contain one key, \"all\", with that correlation value. You can also use \"all\" if a large number of columns should have the same result. For negative correlations, put in a number below 0.5, and for no correlation, use 0."
   ]
  },
  {
   "cell_type": "code",
   "execution_count": 29,
   "metadata": {},
   "outputs": [],
   "source": [
    "correlation_values = {\"label\": \"Poisonous\", \"values\": {\"all\": 1, \"Space Pickles\": 0.3}}\n",
    "num_rows = 100 # the number of rows in our output dataset\n",
    "outfile_name = 'pizza_toppings_toy.csv' # the name of the file we're writing to, should end in '.csv'\n"
   ]
  },
  {
   "cell_type": "code",
   "execution_count": 34,
   "metadata": {},
   "outputs": [],
   "source": [
    "#write the file\n",
    "with open(outfile_name, 'w') as outfile:\n",
    "    writer = csv.writer(outfile, delimiter=',')\n",
    "    writer.writerow([field['id'] for field in data_descriptor_json['fields']])\n",
    "    for i in range(num_rows):\n",
    "        row = []\n",
    "        label_val = random.randrange(2)\n",
    "        for field in data_descriptor_json['fields']:\n",
    "            if field['id'] == correlation_values['label']:\n",
    "                row.append(field['values']['categories'][label_val])\n",
    "                continue\n",
    "            random_num = random.random()\n",
    "            #FIXME this is ugly\n",
    "            correlation_value = correlation_values['values'][field['id']] if field['id'] in correlation_values['values'] else random.random()\n",
    "            if \"all\" in correlation_values['values'] and not field['id'] in correlation_values['values']:\n",
    "                correlation_value = correlation_values['values']['all']\n",
    "            if random_num < correlation_value:\n",
    "                row.append(field['values']['categories'][label_val])\n",
    "            elif correlation_value > 0:\n",
    "                if label_val > 0:\n",
    "                    row.append(field['values']['categories'][0])\n",
    "                else:\n",
    "                    row.append(field['values']['categories'][1])\n",
    "            else:\n",
    "                row.append(field['values']['categories'][random.randrange(2)])\n",
    "        writer.writerow(row)"
   ]
  }
 ],
 "metadata": {
  "kernelspec": {
   "display_name": "Python 3",
   "language": "python",
   "name": "python3"
  },
  "language_info": {
   "codemirror_mode": {
    "name": "ipython",
    "version": 3
   },
   "file_extension": ".py",
   "mimetype": "text/x-python",
   "name": "python",
   "nbconvert_exporter": "python",
   "pygments_lexer": "ipython3",
   "version": "3.8.5"
  }
 },
 "nbformat": 4,
 "nbformat_minor": 2
}
