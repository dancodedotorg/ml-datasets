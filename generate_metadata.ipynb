{
 "cells": [
  {
   "cell_type": "markdown",
   "metadata": {},
   "source": [
    "Set up the notebook"
   ]
  },
  {
   "cell_type": "code",
   "execution_count": 44,
   "metadata": {},
   "outputs": [
    {
     "name": "stdout",
     "output_type": "stream",
     "text": [
      "File Name (without extension)? foods/salsa_toy\n"
     ]
    }
   ],
   "source": [
    "import os\n",
    "import csv\n",
    "import json"
   ]
  },
  {
   "cell_type": "markdown",
   "metadata": {},
   "source": [
    "Add the CSV file you're working with (in the same folder as this python notebook):"
   ]
  },
  {
   "cell_type": "code",
   "execution_count": 45,
   "metadata": {},
   "outputs": [],
   "source": [
    "notebook_path = os.path.abspath(\"generate_metadata.ipynb\")\n",
    "PROJECT = input(\"File Name (without extension)? \")\n",
    "\n",
    "infilename = PROJECT + '.csv'#\"{your file here}.csv\"\n",
    "infilepath = os.path.join(os.path.dirname(notebook_path), infilename)\n",
    "#infilepath = PROJECT + '.csv'#\"{your file here}.csv\"\n",
    "columns = []\n",
    "\n",
    "with open(infilepath, 'r') as infile:\n",
    "    reader = csv.reader(infile, delimiter=\",\")\n",
    "    csv_list = list(map(tuple, reader))\n",
    "    columns = csv_list[0]"
   ]
  },
  {
   "cell_type": "markdown",
   "metadata": {},
   "source": [
    "Run the code below. It will prompt you for info about the dataset, including the type and description for each column"
   ]
  },
  {
   "cell_type": "code",
   "execution_count": 46,
   "metadata": {
    "scrolled": false
   },
   "outputs": [
    {
     "name": "stdout",
     "output_type": "stream",
     "text": [
      "data description: Survey of customers in a taco shop on whether or not they like certain salsa combinations\n",
      "source: Code.org\n",
      "last Updated: 2021\n",
      "Created by: Code.org\n",
      "Cleaned and prepared beforehand (true or false)? true\n",
      "Includes data that can be used to identify a subgroup (true or false)? false\n",
      "Data includes representative samples from all subgroups (true or false)? false\n",
      "Intended Uses: Help make recommendations for what kind of salsa a new customer should order\n",
      "Potential Misuses: Anything other than salsa recommendations\n",
      "cilantro\n",
      "\tCategorical or Numerical (C or N)?c\n",
      "\tEnter a description for this column: Does the salsa contain cilantro?\n",
      "\n",
      "\n",
      "onion\n",
      "\tCategorical or Numerical (C or N)?c\n",
      "\tEnter a description for this column: Does the salsa contain onion?\n",
      "\n",
      "\n",
      "cumin\n",
      "\tCategorical or Numerical (C or N)?c\n",
      "\tEnter a description for this column: Does the salsa contain cumin?\n",
      "\n",
      "\n",
      "vinegar\n",
      "\tCategorical or Numerical (C or N)?c\n",
      "\tEnter a description for this column: Does the salsa contain vinegar?\n",
      "\n",
      "\n",
      "avocado\n",
      "\tCategorical or Numerical (C or N)?c\n",
      "\tEnter a description for this column: Does the salsa contain avocado?\n",
      "\n",
      "\n",
      "corn\n",
      "\tCategorical or Numerical (C or N)?c\n",
      "\tEnter a description for this column: Does the salsa contain corn?\n",
      "\n",
      "\n",
      "beans\n",
      "\tCategorical or Numerical (C or N)?c\n",
      "\tEnter a description for this column: Does the salsa contain beans?\n",
      "\n",
      "\n",
      "garlic\n",
      "\tCategorical or Numerical (C or N)?c\n",
      "\tEnter a description for this column: Does the salsa contain garlic?\n",
      "\n",
      "\n",
      "lime\n",
      "\tCategorical or Numerical (C or N)?c\n",
      "\tEnter a description for this column: Does the salsa contain lime?\n",
      "\n",
      "\n",
      "preference\n",
      "\tCategorical or Numerical (C or N)?c\n",
      "\tEnter a description for this column: Do you like or dislike the salsa?\n",
      "\n",
      "\n",
      "\n",
      "\n",
      "('cilantro', 'onion', 'cumin', 'vinegar', 'avocado', 'corn', 'beans', 'garlic', 'lime', 'preference')\n",
      "Enter default label: preference\n",
      "{\n",
      "  \"card\": {\n",
      "    \"description\": \"Survey of customers in a taco shop on whether or not they like certain salsa combinations\",\n",
      "    \"source\": \"Code.org\",\n",
      "    \"lastUpdated\": \"2021\",\n",
      "    \"context\": {\n",
      "      \"createdBy\": \"Code.org\",\n",
      "      \"preparation\": true,\n",
      "      \"subgroupIdentifiers\": false,\n",
      "      \"representative\": false,\n",
      "      \"potentialUses\": \"Help make recommendations for what kind of salsa a new customer should order\",\n",
      "      \"potentialMisuses\": \"Anything other than salsa recommendations\"\n",
      "    }\n",
      "  },\n",
      "  \"fields\": [\n",
      "    {\n",
      "      \"id\": \"cilantro\",\n",
      "      \"type\": \"categorical\",\n",
      "      \"description\": \"Does the salsa contain cilantro?\"\n",
      "    },\n",
      "    {\n",
      "      \"id\": \"onion\",\n",
      "      \"type\": \"categorical\",\n",
      "      \"description\": \"Does the salsa contain onion?\"\n",
      "    },\n",
      "    {\n",
      "      \"id\": \"cumin\",\n",
      "      \"type\": \"categorical\",\n",
      "      \"description\": \"Does the salsa contain cumin?\"\n",
      "    },\n",
      "    {\n",
      "      \"id\": \"vinegar\",\n",
      "      \"type\": \"categorical\",\n",
      "      \"description\": \"Does the salsa contain vinegar?\"\n",
      "    },\n",
      "    {\n",
      "      \"id\": \"avocado\",\n",
      "      \"type\": \"categorical\",\n",
      "      \"description\": \"Does the salsa contain avocado?\"\n",
      "    },\n",
      "    {\n",
      "      \"id\": \"corn\",\n",
      "      \"type\": \"categorical\",\n",
      "      \"description\": \"Does the salsa contain corn?\"\n",
      "    },\n",
      "    {\n",
      "      \"id\": \"beans\",\n",
      "      \"type\": \"categorical\",\n",
      "      \"description\": \"Does the salsa contain beans?\"\n",
      "    },\n",
      "    {\n",
      "      \"id\": \"garlic\",\n",
      "      \"type\": \"categorical\",\n",
      "      \"description\": \"Does the salsa contain garlic?\"\n",
      "    },\n",
      "    {\n",
      "      \"id\": \"lime\",\n",
      "      \"type\": \"categorical\",\n",
      "      \"description\": \"Does the salsa contain lime?\"\n",
      "    },\n",
      "    {\n",
      "      \"id\": \"preference\",\n",
      "      \"type\": \"categorical\",\n",
      "      \"description\": \"Do you like or dislike the salsa?\"\n",
      "    }\n",
      "  ],\n",
      "  \"defaultLabelColumn\": \"preference\"\n",
      "}\n"
     ]
    }
   ],
   "source": [
    "#print(columns)\n",
    "data = {}\n",
    "tempCard = {}\n",
    "\n",
    "tempCard[\"description\"] = input(\"data description: \")\n",
    "tempCard[\"source\"] = input(\"source: \")\n",
    "tempCard[\"lastUpdated\"] = input(\"last Updated: \")\n",
    "\n",
    "tempContext = {}\n",
    "tempContext[\"createdBy\"] = input(\"Created by: \")\n",
    "tempContext[\"potentialUses\"] = input(\"Intended Uses: \")\n",
    "tempContext[\"potentialMisuses\"] = input(\"Potential Misuses: \")\n",
    "\n",
    "tempCard[\"context\"] = tempContext\n",
    "\n",
    "#print(json.dumps(tempCard, indent=2))\n",
    "\n",
    "data[\"card\"] = tempCard\n",
    "\n",
    "tempFields = []\n",
    "for field in columns:\n",
    "    tempObj = {}\n",
    "    print(field)\n",
    "    tempObj[\"id\"] = field\n",
    "    temp = input(\"\\tCategorical or Numerical (C or N)?\")\n",
    "    if(temp.lower() == \"c\"):\n",
    "        tempObj[\"type\"] = \"categorical\"\n",
    "    elif(temp.lower() == \"n\"):\n",
    "        tempObj[\"type\"] = \"numerical\"\n",
    "    tempObj[\"description\"] = input(\"\\tEnter a description for this column: \")\n",
    "    tempFields.append(tempObj)\n",
    "    print(\"\\n\")\n",
    "\n",
    "data[\"fields\"] = tempFields\n",
    "print(\"\\n\")\n",
    "print(columns)\n",
    "data[\"defaultLabelColumn\"] = input(\"Enter default label: \")\n",
    "\n",
    "print(json.dumps(data, indent=2))\n"
   ]
  },
  {
   "cell_type": "markdown",
   "metadata": {},
   "source": [
    "Take a look and make sure everything is right, and if you're confident, we can write our data to a JSON file."
   ]
  },
  {
   "cell_type": "code",
   "execution_count": 47,
   "metadata": {},
   "outputs": [
    {
     "name": "stdout",
     "output_type": "stream",
     "text": [
      "foods/salsa_toy.json\n"
     ]
    }
   ],
   "source": [
    "    print(infilename.split('.')[0] + '.json')\n",
    "    with open(infilename.split('.')[0] + '.json', 'w') as outfile:\n",
    "        json.dump(data, outfile, indent=2)"
   ]
  }
 ],
 "metadata": {
  "kernelspec": {
   "display_name": "Python 3",
   "language": "python",
   "name": "python3"
  },
  "language_info": {
   "codemirror_mode": {
    "name": "ipython",
    "version": 3
   },
   "file_extension": ".py",
   "mimetype": "text/x-python",
   "name": "python",
   "nbconvert_exporter": "python",
   "pygments_lexer": "ipython3",
   "version": "3.8.5"
  }
 },
 "nbformat": 4,
 "nbformat_minor": 5
}
